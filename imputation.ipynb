{
 "cells": [
  {
   "cell_type": "markdown",
   "metadata": {},
   "source": [
    "# Hop data imputation\n",
    "For many hops, an incomplete oil profile is provided on the YCH hops website. We will impute these missing values before continuing to feature development and classification. \n",
    "\n",
    "For imputation we will utilize the SoftImpute algorithm include in the [fancyimpute](https://github.com/iskandr/fancyimpute) package, which is based on the work of Mazumder, Rahul, Trevor Hastie, and Robert Tibshirani in \"Spectral regularization algorithms for learning large incomplete matrices.\" (Journal of machine learning research 11.Aug (2010): 2287-2322.)"
   ]
  },
  {
   "cell_type": "code",
   "execution_count": 1,
   "metadata": {},
   "outputs": [
    {
     "name": "stderr",
     "output_type": "stream",
     "text": [
      "/anaconda3/lib/python3.6/site-packages/h5py/__init__.py:36: FutureWarning: Conversion of the second argument of issubdtype from `float` to `np.floating` is deprecated. In future, it will be treated as `np.float64 == np.dtype(float).type`.\n",
      "  from ._conv import register_converters as _register_converters\n",
      "Using TensorFlow backend.\n"
     ]
    }
   ],
   "source": [
    "import pandas as pd\n",
    "import numpy as np\n",
    "from fancyimpute import SoftImpute"
   ]
  },
  {
   "cell_type": "code",
   "execution_count": 2,
   "metadata": {},
   "outputs": [],
   "source": [
    "clean_data = pd.read_csv(\"cleaned_hops.csv\")"
   ]
  },
  {
   "cell_type": "code",
   "execution_count": 3,
   "metadata": {},
   "outputs": [
    {
     "name": "stdout",
     "output_type": "stream",
     "text": [
      "[SoftImpute] Max Singular Value of X_init = 853.911560\n",
      "[SoftImpute] Iter 1: observed MAE=0.787583 rank=10\n",
      "[SoftImpute] Iter 2: observed MAE=0.783782 rank=10\n",
      "[SoftImpute] Iter 3: observed MAE=0.784587 rank=10\n",
      "[SoftImpute] Iter 4: observed MAE=0.785728 rank=10\n",
      "[SoftImpute] Iter 5: observed MAE=0.786600 rank=10\n",
      "[SoftImpute] Iter 6: observed MAE=0.787186 rank=10\n",
      "[SoftImpute] Iter 7: observed MAE=0.787620 rank=10\n",
      "[SoftImpute] Iter 8: observed MAE=0.787996 rank=10\n",
      "[SoftImpute] Iter 9: observed MAE=0.788324 rank=10\n",
      "[SoftImpute] Iter 10: observed MAE=0.788608 rank=10\n",
      "[SoftImpute] Iter 11: observed MAE=0.788846 rank=10\n",
      "[SoftImpute] Iter 12: observed MAE=0.789049 rank=10\n",
      "[SoftImpute] Iter 13: observed MAE=0.789243 rank=10\n",
      "[SoftImpute] Iter 14: observed MAE=0.789432 rank=10\n",
      "[SoftImpute] Iter 15: observed MAE=0.789593 rank=10\n",
      "[SoftImpute] Iter 16: observed MAE=0.789728 rank=10\n",
      "[SoftImpute] Iter 17: observed MAE=0.789841 rank=10\n",
      "[SoftImpute] Iter 18: observed MAE=0.789936 rank=10\n",
      "[SoftImpute] Iter 19: observed MAE=0.790015 rank=10\n",
      "[SoftImpute] Iter 20: observed MAE=0.790080 rank=10\n",
      "[SoftImpute] Iter 21: observed MAE=0.790138 rank=10\n",
      "[SoftImpute] Iter 22: observed MAE=0.790189 rank=10\n",
      "[SoftImpute] Iter 23: observed MAE=0.790242 rank=10\n",
      "[SoftImpute] Iter 24: observed MAE=0.790299 rank=10\n",
      "[SoftImpute] Iter 25: observed MAE=0.790349 rank=10\n",
      "[SoftImpute] Iter 26: observed MAE=0.790393 rank=10\n",
      "[SoftImpute] Iter 27: observed MAE=0.790430 rank=10\n",
      "[SoftImpute] Iter 28: observed MAE=0.790463 rank=10\n",
      "[SoftImpute] Iter 29: observed MAE=0.790491 rank=10\n",
      "[SoftImpute] Iter 30: observed MAE=0.790513 rank=10\n",
      "[SoftImpute] Iter 31: observed MAE=0.790532 rank=10\n",
      "[SoftImpute] Iter 32: observed MAE=0.790548 rank=10\n",
      "[SoftImpute] Iter 33: observed MAE=0.790566 rank=10\n",
      "[SoftImpute] Iter 34: observed MAE=0.790587 rank=10\n",
      "[SoftImpute] Iter 35: observed MAE=0.790607 rank=10\n",
      "[SoftImpute] Iter 36: observed MAE=0.790625 rank=10\n",
      "[SoftImpute] Iter 37: observed MAE=0.790640 rank=10\n",
      "[SoftImpute] Iter 38: observed MAE=0.790655 rank=10\n",
      "[SoftImpute] Iter 39: observed MAE=0.790668 rank=10\n",
      "[SoftImpute] Iter 40: observed MAE=0.790679 rank=10\n",
      "[SoftImpute] Iter 41: observed MAE=0.790689 rank=10\n",
      "[SoftImpute] Iter 42: observed MAE=0.790699 rank=10\n",
      "[SoftImpute] Iter 43: observed MAE=0.790707 rank=10\n",
      "[SoftImpute] Iter 44: observed MAE=0.790714 rank=10\n",
      "[SoftImpute] Iter 45: observed MAE=0.790721 rank=10\n",
      "[SoftImpute] Iter 46: observed MAE=0.790726 rank=10\n",
      "[SoftImpute] Iter 47: observed MAE=0.790731 rank=10\n",
      "[SoftImpute] Iter 48: observed MAE=0.790735 rank=10\n",
      "[SoftImpute] Iter 49: observed MAE=0.790738 rank=10\n",
      "[SoftImpute] Iter 50: observed MAE=0.790741 rank=10\n",
      "[SoftImpute] Iter 51: observed MAE=0.790744 rank=10\n",
      "[SoftImpute] Iter 52: observed MAE=0.790746 rank=10\n",
      "[SoftImpute] Iter 53: observed MAE=0.790748 rank=10\n",
      "[SoftImpute] Iter 54: observed MAE=0.790749 rank=10\n",
      "[SoftImpute] Iter 55: observed MAE=0.790750 rank=10\n",
      "[SoftImpute] Iter 56: observed MAE=0.790751 rank=10\n",
      "[SoftImpute] Iter 57: observed MAE=0.790752 rank=10\n",
      "[SoftImpute] Iter 58: observed MAE=0.790753 rank=10\n",
      "[SoftImpute] Iter 59: observed MAE=0.790753 rank=10\n",
      "[SoftImpute] Iter 60: observed MAE=0.790753 rank=10\n",
      "[SoftImpute] Iter 61: observed MAE=0.790754 rank=10\n",
      "[SoftImpute] Iter 62: observed MAE=0.790754 rank=10\n",
      "[SoftImpute] Iter 63: observed MAE=0.790754 rank=10\n",
      "[SoftImpute] Iter 64: observed MAE=0.790754 rank=10\n",
      "[SoftImpute] Iter 65: observed MAE=0.790754 rank=10\n",
      "[SoftImpute] Iter 66: observed MAE=0.790754 rank=10\n",
      "[SoftImpute] Iter 67: observed MAE=0.790754 rank=10\n",
      "[SoftImpute] Iter 68: observed MAE=0.790754 rank=10\n",
      "[SoftImpute] Iter 69: observed MAE=0.790754 rank=10\n",
      "[SoftImpute] Iter 70: observed MAE=0.790753 rank=10\n",
      "[SoftImpute] Iter 71: observed MAE=0.790753 rank=10\n",
      "[SoftImpute] Stopped after iteration 71 for lambda=17.078231\n"
     ]
    },
    {
     "name": "stderr",
     "output_type": "stream",
     "text": [
      "/anaconda3/lib/python3.6/site-packages/fancyimpute/soft_impute.py:100: RuntimeWarning: divide by zero encountered in double_scalars\n",
      "  return (np.sqrt(ssd) / old_norm) < self.convergence_threshold\n"
     ]
    }
   ],
   "source": [
    "impute_data = pd.DataFrame(SoftImpute().complete(clean_data.iloc[:, 4:26]))"
   ]
  },
  {
   "cell_type": "code",
   "execution_count": 4,
   "metadata": {},
   "outputs": [],
   "source": [
    "impute_data = pd.concat([clean_data.iloc[:,1:4], impute_data], axis=1, join_axes=[clean_data.index])\n",
    "impute_data.columns = clean_data.iloc[:,1:26].columns\n",
    "impute_data.to_csv(\"imputed_hops.csv\")"
   ]
  }
 ],
 "metadata": {
  "kernelspec": {
   "display_name": "Python 3",
   "language": "python",
   "name": "python3"
  },
  "language_info": {
   "codemirror_mode": {
    "name": "ipython",
    "version": 3
   },
   "file_extension": ".py",
   "mimetype": "text/x-python",
   "name": "python",
   "nbconvert_exporter": "python",
   "pygments_lexer": "ipython3",
   "version": "3.6.4"
  }
 },
 "nbformat": 4,
 "nbformat_minor": 2
}
